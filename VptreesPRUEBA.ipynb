{
  "nbformat": 4,
  "nbformat_minor": 0,
  "metadata": {
    "colab": {
      "name": "Untitled6.ipynb",
      "provenance": [],
      "collapsed_sections": [],
      "authorship_tag": "ABX9TyOR4z5kUpifhv+zG2mKpddA",
      "include_colab_link": true
    },
    "kernelspec": {
      "name": "python3",
      "display_name": "Python 3"
    },
    "language_info": {
      "name": "python"
    }
  },
  "cells": [
    {
      "cell_type": "markdown",
      "metadata": {
        "id": "view-in-github",
        "colab_type": "text"
      },
      "source": [
        "<a href=\"https://colab.research.google.com/github/IA2021UR/trabajo-ia-en-la-comunidad-de-la-rioja-equipo-1/blob/main/VptreesPRUEBA.ipynb\" target=\"_parent\"><img src=\"https://colab.research.google.com/assets/colab-badge.svg\" alt=\"Open In Colab\"/></a>"
      ]
    },
    {
      "cell_type": "code",
      "metadata": {
        "id": "0Z88FQP-tFUE"
      },
      "source": [
        "!wget https://www.dropbox.com/s/chfwr4x475y3p1v/noticiasFotos.zip?dl=0 -O 2.zip\n",
        "!unzip 2.zip"
      ],
      "execution_count": null,
      "outputs": []
    },
    {
      "cell_type": "code",
      "metadata": {
        "id": "NQfPkchzule2"
      },
      "source": [
        "import cv2\n",
        "import tensorflow as tf\n",
        "from tensorflow.keras.models import load_model\n",
        "import cv2\n",
        "import numpy as np\n",
        "import matplotlib.pyplot as plt\n",
        "import os\n",
        "os.mkdir('3')\n"
      ],
      "execution_count": 5,
      "outputs": []
    },
    {
      "cell_type": "code",
      "metadata": {
        "id": "VZ6PBfa3tdzo"
      },
      "source": [
        "#trabajaremos solo con las primeras mil imágenes"
      ],
      "execution_count": null,
      "outputs": []
    },
    {
      "cell_type": "code",
      "metadata": {
        "id": "fBQ7gejHttqJ"
      },
      "source": [
        "def mostrarImagen(image):\n",
        "    if len(image.shape)==3:\n",
        "        img2 = image[:,:,::-1]\n",
        "        plt.imshow(img2)\n",
        "        plt.show()\n",
        "    else:\n",
        "        img2 = image\n",
        "        plt.imshow(img2,cmap='gray')\n",
        "        plt.show()\n",
        "      \n",
        "import cv2\n",
        "import matplotlib.pyplot as plt\n",
        "import numpy as np\n",
        "import imutils\n",
        "%matplotlib inline "
      ],
      "execution_count": 2,
      "outputs": []
    },
    {
      "cell_type": "markdown",
      "metadata": {
        "id": "UWCr_nQptyl7"
      },
      "source": [
        "Para facilitar la búsqueda con vptrees necesitamos los hashes de una imagen , para ello primero las pasamos a escala de grises y escalamos"
      ]
    },
    {
      "cell_type": "code",
      "metadata": {
        "id": "2Zdf8MWduCZZ"
      },
      "source": [
        "print('Procesando imágenes')\n",
        "DIR='2'\n",
        "\n",
        "for i in range(0,1000):\n",
        "    name=os.listdir('2')[i]\n",
        "    if name.endswith('.jpg'):\n",
        "        print(f'   {name}')\n",
        "        try:\n",
        "          gris = cv2.cvtColor(cv2.imread(f'{DIR}/{name}'), cv2.COLOR_BGR2GRAY) \n",
        "          escala_gris = cv2.resize(gris,(400,400))\n",
        "\n",
        "          path='3/'+str(i)+'.jpg'\n",
        "          cv2.imwrite(path, escala_gris)\n",
        "        except:\n",
        "          print('An exception occurred')\n",
        "          print(path)\n",
        "\n"
      ],
      "execution_count": null,
      "outputs": []
    },
    {
      "cell_type": "code",
      "metadata": {
        "id": "ONsuT9YXxfj1"
      },
      "source": [
        "# import the necessary packages\n",
        "from imutils import paths\n",
        "import argparse\n",
        "import time\n",
        "import sys\n",
        "import cv2\n",
        "import os"
      ],
      "execution_count": 23,
      "outputs": []
    },
    {
      "cell_type": "code",
      "metadata": {
        "id": "KeohkOtstyA2"
      },
      "source": [
        "def dhash(image, hashSize=8):\n",
        "\t# resize the input image, adding a single column (width) so we\n",
        "\t# can compute the horizontal gradient\n",
        "\tresized = cv2.resize(image, (hashSize + 1, hashSize))\n",
        "\t# compute the (relative) horizontal gradient between adjacent\n",
        "\t# column pixels\n",
        "\tdiff = resized[:, 1:] > resized[:, :-1]\n",
        "\t# convert the difference image to a hash\n",
        "\treturn sum([2 ** i for (i, v) in enumerate(diff.flatten()) if v])"
      ],
      "execution_count": 22,
      "outputs": []
    },
    {
      "cell_type": "code",
      "metadata": {
        "colab": {
          "base_uri": "https://localhost:8080/"
        },
        "id": "XkxvgV3UyI1A",
        "outputId": "4186e80a-c24b-4913-ead0-53a4616d7f3f"
      },
      "source": [
        "print('Procesando Hashes')\n",
        "DIR='3'\n",
        "\n",
        "ListaHashes=[]\n",
        "for name in os.listdir('3'):\n",
        "  gris = cv2.cvtColor(cv2.imread(f'{DIR}/{name}'), cv2.COLOR_BGR2GRAY) \n",
        "  ListaHashes.append(dhash(gris))"
      ],
      "execution_count": 29,
      "outputs": [
        {
          "output_type": "stream",
          "text": [
            "Procesando Hashes\n"
          ],
          "name": "stdout"
        }
      ]
    },
    {
      "cell_type": "code",
      "metadata": {
        "colab": {
          "base_uri": "https://localhost:8080/"
        },
        "id": "aNMeW4p50FvB",
        "outputId": "13b74e47-c090-4d0b-ef44-14b92f1473a6"
      },
      "source": [
        "# setup pip, virtualenv, and virtualenvwrapper (using the \"pip install OpenCV\" instructions)\n",
        "!pip install numpy\n",
        "!pip install opencv-contrib-python\n",
        "!pip install imutils\n",
        "!pip install vptree"
      ],
      "execution_count": 82,
      "outputs": [
        {
          "output_type": "stream",
          "text": [
            "Requirement already satisfied: numpy in /usr/local/lib/python3.7/dist-packages (1.19.5)\n",
            "Requirement already satisfied: opencv-contrib-python in /usr/local/lib/python3.7/dist-packages (4.1.2.30)\n",
            "Requirement already satisfied: numpy>=1.14.5 in /usr/local/lib/python3.7/dist-packages (from opencv-contrib-python) (1.19.5)\n",
            "Requirement already satisfied: imutils in /usr/local/lib/python3.7/dist-packages (0.5.4)\n",
            "Collecting vptree\n",
            "  Downloading https://files.pythonhosted.org/packages/6d/be/ed4f57bdaa34fe3431af28943b57f42959e63b668b1a3b9864d647185106/vptree-1.2.tar.gz\n",
            "Requirement already satisfied: numpy in /usr/local/lib/python3.7/dist-packages (from vptree) (1.19.5)\n",
            "Building wheels for collected packages: vptree\n",
            "  Building wheel for vptree (setup.py) ... \u001b[?25l\u001b[?25hdone\n",
            "  Created wheel for vptree: filename=vptree-1.2-cp37-none-any.whl size=4373 sha256=6068a5807b6201c8de5aec75d2cefd1e8dce5744c89edc6f94da98171fd2d84a\n",
            "  Stored in directory: /root/.cache/pip/wheels/8f/f8/1a/3dfb715874a6f009977a376a0a58e50800a6236ade502a1d15\n",
            "Successfully built vptree\n",
            "Installing collected packages: vptree\n",
            "Successfully installed vptree-1.2\n"
          ],
          "name": "stdout"
        }
      ]
    },
    {
      "cell_type": "code",
      "metadata": {
        "id": "yk1OJJwX80g_"
      },
      "source": [
        "# import the necessary packages\n",
        "import numpy as np\n",
        "import cv2\n",
        "def dhash(image, hashSize=8):\n",
        "\t# convert the image to grayscale\n",
        "\tgray = cv2.cvtColor(image, cv2.COLOR_BGR2GRAY)\n",
        "\t# resize the grayscale image, adding a single column (width) so we\n",
        "\t# can compute the horizontal gradient\n",
        "\tresized = cv2.resize(gray, (hashSize + 1, hashSize))\n",
        "\t# compute the (relative) horizontal gradient between adjacent\n",
        "\t# column pixels\n",
        "\tdiff = resized[:, 1:] > resized[:, :-1]\n",
        "\t# convert the difference image to a hash\n",
        "\treturn sum([2 ** i for (i, v) in enumerate(diff.flatten()) if v])\n",
        "def convert_hash(h):\n",
        "\t# convert the hash to NumPy's 64-bit float and then back to\n",
        "\t# Python's built in int\n",
        "\treturn int(np.array(h, dtype=\"float64\"))\n",
        "def hamming(a, b):\n",
        "\t# compute and return the Hamming distance between the integers\n",
        "\treturn bin(int(a) ^ int(b)).count(\"1\")"
      ],
      "execution_count": 85,
      "outputs": []
    },
    {
      "cell_type": "code",
      "metadata": {
        "colab": {
          "base_uri": "https://localhost:8080/",
          "height": 373
        },
        "id": "4-I7s7Ed8_Aa",
        "outputId": "17717b2a-ec74-4228-e22f-9c2112362465"
      },
      "source": [
        "# import the necessary packages\n",
        "from pyimagesearch.hashing import convert_hash\n",
        "from pyimagesearch.hashing import hamming\n",
        "from pyimagesearch.hashing import dhash\n",
        "from imutils import paths\n",
        "import argparse\n",
        "import pickle\n",
        "import vptree\n",
        "import cv2\n",
        "# construct the argument parser and parse the arguments\n",
        "ap = argparse.ArgumentParser()\n",
        "ap.add_argument(\"-i\", \"--images\", required=True, type=str,\n",
        "\thelp=\"path to input directory of images\")\n",
        "ap.add_argument(\"-t\", \"--tree\", required=True, type=str,\n",
        "\thelp=\"path to output VP-Tree\")\n",
        "ap.add_argument(\"-a\", \"--hashes\", required=True, type=str,\n",
        "\thelp=\"path to output hashes dictionary\")\n",
        "args = vars(ap.parse_args())"
      ],
      "execution_count": 86,
      "outputs": [
        {
          "output_type": "error",
          "ename": "ModuleNotFoundError",
          "evalue": "ignored",
          "traceback": [
            "\u001b[0;31m---------------------------------------------------------------------------\u001b[0m",
            "\u001b[0;31mModuleNotFoundError\u001b[0m                       Traceback (most recent call last)",
            "\u001b[0;32m<ipython-input-86-e1cdfaf88199>\u001b[0m in \u001b[0;36m<module>\u001b[0;34m()\u001b[0m\n\u001b[1;32m      1\u001b[0m \u001b[0;31m# import the necessary packages\u001b[0m\u001b[0;34m\u001b[0m\u001b[0;34m\u001b[0m\u001b[0;34m\u001b[0m\u001b[0m\n\u001b[0;32m----> 2\u001b[0;31m \u001b[0;32mfrom\u001b[0m \u001b[0mpyimagesearch\u001b[0m\u001b[0;34m.\u001b[0m\u001b[0mhashing\u001b[0m \u001b[0;32mimport\u001b[0m \u001b[0mconvert_hash\u001b[0m\u001b[0;34m\u001b[0m\u001b[0;34m\u001b[0m\u001b[0m\n\u001b[0m\u001b[1;32m      3\u001b[0m \u001b[0;32mfrom\u001b[0m \u001b[0mpyimagesearch\u001b[0m\u001b[0;34m.\u001b[0m\u001b[0mhashing\u001b[0m \u001b[0;32mimport\u001b[0m \u001b[0mhamming\u001b[0m\u001b[0;34m\u001b[0m\u001b[0;34m\u001b[0m\u001b[0m\n\u001b[1;32m      4\u001b[0m \u001b[0;32mfrom\u001b[0m \u001b[0mpyimagesearch\u001b[0m\u001b[0;34m.\u001b[0m\u001b[0mhashing\u001b[0m \u001b[0;32mimport\u001b[0m \u001b[0mdhash\u001b[0m\u001b[0;34m\u001b[0m\u001b[0;34m\u001b[0m\u001b[0m\n\u001b[1;32m      5\u001b[0m \u001b[0;32mfrom\u001b[0m \u001b[0mimutils\u001b[0m \u001b[0;32mimport\u001b[0m \u001b[0mpaths\u001b[0m\u001b[0;34m\u001b[0m\u001b[0;34m\u001b[0m\u001b[0m\n",
            "\u001b[0;31mModuleNotFoundError\u001b[0m: No module named 'pyimagesearch'",
            "",
            "\u001b[0;31m---------------------------------------------------------------------------\u001b[0;32m\nNOTE: If your import is failing due to a missing package, you can\nmanually install dependencies using either !pip or !apt.\n\nTo view examples of installing some common dependencies, click the\n\"Open Examples\" button below.\n\u001b[0;31m---------------------------------------------------------------------------\u001b[0m\n"
          ]
        }
      ]
    }
  ]
}