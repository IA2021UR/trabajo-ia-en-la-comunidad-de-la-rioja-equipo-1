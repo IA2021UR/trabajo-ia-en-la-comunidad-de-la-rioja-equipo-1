{
  "nbformat": 4,
  "nbformat_minor": 0,
  "metadata": {
    "colab": {
      "name": "BusquedaPorCsv.ipynb",
      "provenance": [],
      "authorship_tag": "ABX9TyPHghmyJcWahFJ1KndOU8/E",
      "include_colab_link": true
    },
    "kernelspec": {
      "name": "python3",
      "display_name": "Python 3"
    },
    "language_info": {
      "name": "python"
    }
  },
  "cells": [
    {
      "cell_type": "markdown",
      "metadata": {
        "id": "view-in-github",
        "colab_type": "text"
      },
      "source": [
        "<a href=\"https://colab.research.google.com/github/IA2021UR/trabajo-ia-en-la-comunidad-de-la-rioja-equipo-1/blob/main/BusquedaPorCsv.ipynb\" target=\"_parent\"><img src=\"https://colab.research.google.com/assets/colab-badge.svg\" alt=\"Open In Colab\"/></a>"
      ]
    },
    {
      "cell_type": "code",
      "metadata": {
        "colab": {
          "base_uri": "https://localhost:8080/"
        },
        "id": "M7FKIbvOH8Ca",
        "outputId": "2aa0d1f8-a6a3-4b7f-cadb-14bc3654b593"
      },
      "source": [
        "!pip install seaborn==0.9.0"
      ],
      "execution_count": 1,
      "outputs": [
        {
          "output_type": "stream",
          "text": [
            "Collecting seaborn==0.9.0\n",
            "\u001b[?25l  Downloading https://files.pythonhosted.org/packages/a8/76/220ba4420459d9c4c9c9587c6ce607bf56c25b3d3d2de62056efe482dadc/seaborn-0.9.0-py3-none-any.whl (208kB)\n",
            "\r\u001b[K     |█▋                              | 10kB 7.6MB/s eta 0:00:01\r\u001b[K     |███▏                            | 20kB 10.0MB/s eta 0:00:01\r\u001b[K     |████▊                           | 30kB 12.2MB/s eta 0:00:01\r\u001b[K     |██████▎                         | 40kB 13.9MB/s eta 0:00:01\r\u001b[K     |███████▉                        | 51kB 10.6MB/s eta 0:00:01\r\u001b[K     |█████████▌                      | 61kB 12.1MB/s eta 0:00:01\r\u001b[K     |███████████                     | 71kB 7.3MB/s eta 0:00:01\r\u001b[K     |████████████▋                   | 81kB 7.8MB/s eta 0:00:01\r\u001b[K     |██████████████▏                 | 92kB 7.2MB/s eta 0:00:01\r\u001b[K     |███████████████▊                | 102kB 7.8MB/s eta 0:00:01\r\u001b[K     |█████████████████▎              | 112kB 7.8MB/s eta 0:00:01\r\u001b[K     |███████████████████             | 122kB 7.8MB/s eta 0:00:01\r\u001b[K     |████████████████████▌           | 133kB 7.8MB/s eta 0:00:01\r\u001b[K     |██████████████████████          | 143kB 7.8MB/s eta 0:00:01\r\u001b[K     |███████████████████████▋        | 153kB 7.8MB/s eta 0:00:01\r\u001b[K     |█████████████████████████▏      | 163kB 7.8MB/s eta 0:00:01\r\u001b[K     |██████████████████████████▊     | 174kB 7.8MB/s eta 0:00:01\r\u001b[K     |████████████████████████████▍   | 184kB 7.8MB/s eta 0:00:01\r\u001b[K     |██████████████████████████████  | 194kB 7.8MB/s eta 0:00:01\r\u001b[K     |███████████████████████████████▌| 204kB 7.8MB/s eta 0:00:01\r\u001b[K     |████████████████████████████████| 215kB 7.8MB/s \n",
            "\u001b[?25hRequirement already satisfied: pandas>=0.15.2 in /usr/local/lib/python3.7/dist-packages (from seaborn==0.9.0) (1.1.5)\n",
            "Requirement already satisfied: matplotlib>=1.4.3 in /usr/local/lib/python3.7/dist-packages (from seaborn==0.9.0) (3.2.2)\n",
            "Requirement already satisfied: scipy>=0.14.0 in /usr/local/lib/python3.7/dist-packages (from seaborn==0.9.0) (1.4.1)\n",
            "Requirement already satisfied: numpy>=1.9.3 in /usr/local/lib/python3.7/dist-packages (from seaborn==0.9.0) (1.19.5)\n",
            "Requirement already satisfied: python-dateutil>=2.7.3 in /usr/local/lib/python3.7/dist-packages (from pandas>=0.15.2->seaborn==0.9.0) (2.8.1)\n",
            "Requirement already satisfied: pytz>=2017.2 in /usr/local/lib/python3.7/dist-packages (from pandas>=0.15.2->seaborn==0.9.0) (2018.9)\n",
            "Requirement already satisfied: kiwisolver>=1.0.1 in /usr/local/lib/python3.7/dist-packages (from matplotlib>=1.4.3->seaborn==0.9.0) (1.3.1)\n",
            "Requirement already satisfied: pyparsing!=2.0.4,!=2.1.2,!=2.1.6,>=2.0.1 in /usr/local/lib/python3.7/dist-packages (from matplotlib>=1.4.3->seaborn==0.9.0) (2.4.7)\n",
            "Requirement already satisfied: cycler>=0.10 in /usr/local/lib/python3.7/dist-packages (from matplotlib>=1.4.3->seaborn==0.9.0) (0.10.0)\n",
            "Requirement already satisfied: six>=1.5 in /usr/local/lib/python3.7/dist-packages (from python-dateutil>=2.7.3->pandas>=0.15.2->seaborn==0.9.0) (1.15.0)\n",
            "Installing collected packages: seaborn\n",
            "  Found existing installation: seaborn 0.11.1\n",
            "    Uninstalling seaborn-0.11.1:\n",
            "      Successfully uninstalled seaborn-0.11.1\n",
            "Successfully installed seaborn-0.9.0\n"
          ],
          "name": "stdout"
        }
      ]
    },
    {
      "cell_type": "code",
      "metadata": {
        "id": "Ly-8rinfJE0L"
      },
      "source": [
        "import numpy as np\n",
        "import pandas as pd\n",
        "import matplotlib.pyplot as plt\n",
        "import seaborn as sns\n",
        "sns.set()\n",
        "\n",
        "import tensorflow as tf\n",
        "from tensorflow.keras.models import load_model\n",
        "import cv2\n",
        "import numpy as np\n",
        "import matplotlib.pyplot as plt\n",
        "import os"
      ],
      "execution_count": 11,
      "outputs": []
    },
    {
      "cell_type": "code",
      "metadata": {
        "id": "v57F6iW7KHIT"
      },
      "source": [
        "!wget https://www.dropbox.com/s/chfwr4x475y3p1v/noticiasFotos.zip?dl=0 -O 2.zip\n",
        "!unzip 2.zip"
      ],
      "execution_count": null,
      "outputs": []
    },
    {
      "cell_type": "code",
      "metadata": {
        "colab": {
          "base_uri": "https://localhost:8080/"
        },
        "id": "NfVqQeKvJVMi",
        "outputId": "82ff6754-d811-4be6-ac6b-6e67c27ac485"
      },
      "source": [
        "!wget https://www.dropbox.com/s/lw24ve7ndobd4y5/EmbeddingsFotos.csv?dl=0 -O EmbeddingsFotos.csv"
      ],
      "execution_count": 5,
      "outputs": [
        {
          "output_type": "stream",
          "text": [
            "--2021-05-27 14:07:49--  https://www.dropbox.com/s/lw24ve7ndobd4y5/EmbeddingsFotos.csv?dl=0\n",
            "Resolving www.dropbox.com (www.dropbox.com)... 162.125.4.18, 2620:100:6016:18::a27d:112\n",
            "Connecting to www.dropbox.com (www.dropbox.com)|162.125.4.18|:443... connected.\n",
            "HTTP request sent, awaiting response... 301 Moved Permanently\n",
            "Location: /s/raw/lw24ve7ndobd4y5/EmbeddingsFotos.csv [following]\n",
            "--2021-05-27 14:07:49--  https://www.dropbox.com/s/raw/lw24ve7ndobd4y5/EmbeddingsFotos.csv\n",
            "Reusing existing connection to www.dropbox.com:443.\n",
            "HTTP request sent, awaiting response... 302 Found\n",
            "Location: https://ucf5eec89c0f9121582e94d4a91f.dl.dropboxusercontent.com/cd/0/inline/BPReIJ6PslwiIOKj6FgJREJ0-zlHdjQkEn_NxPXY9YhLo5qe9gLnhf-Is2IyzctkHVaWKyYdbo0LgLLg_g-sgoo8GZMjvjDernl0ERJ5jofRxprP9nX2_B5I7FzTelImhidMegvBhP1Lh_tRPC28ex-a/file# [following]\n",
            "--2021-05-27 14:07:50--  https://ucf5eec89c0f9121582e94d4a91f.dl.dropboxusercontent.com/cd/0/inline/BPReIJ6PslwiIOKj6FgJREJ0-zlHdjQkEn_NxPXY9YhLo5qe9gLnhf-Is2IyzctkHVaWKyYdbo0LgLLg_g-sgoo8GZMjvjDernl0ERJ5jofRxprP9nX2_B5I7FzTelImhidMegvBhP1Lh_tRPC28ex-a/file\n",
            "Resolving ucf5eec89c0f9121582e94d4a91f.dl.dropboxusercontent.com (ucf5eec89c0f9121582e94d4a91f.dl.dropboxusercontent.com)... 162.125.1.15, 2620:100:6016:15::a27d:10f\n",
            "Connecting to ucf5eec89c0f9121582e94d4a91f.dl.dropboxusercontent.com (ucf5eec89c0f9121582e94d4a91f.dl.dropboxusercontent.com)|162.125.1.15|:443... connected.\n",
            "HTTP request sent, awaiting response... 200 OK\n",
            "Length: 17547739 (17M) [text/plain]\n",
            "Saving to: ‘EmbeddingsFotos.csv’\n",
            "\n",
            "EmbeddingsFotos.csv 100%[===================>]  16.73M  61.8MB/s    in 0.3s    \n",
            "\n",
            "2021-05-27 14:07:51 (61.8 MB/s) - ‘EmbeddingsFotos.csv’ saved [17547739/17547739]\n",
            "\n"
          ],
          "name": "stdout"
        }
      ]
    },
    {
      "cell_type": "code",
      "metadata": {
        "id": "w-7g6rJBJdu1"
      },
      "source": [
        "df = pd.read_csv('EmbeddingsFotos.csv')"
      ],
      "execution_count": 6,
      "outputs": []
    },
    {
      "cell_type": "code",
      "metadata": {
        "colab": {
          "base_uri": "https://localhost:8080/",
          "height": 202
        },
        "id": "3-8HzxnZJ1Tc",
        "outputId": "90a6eb39-7113-419b-8b39-410d2b4cd785"
      },
      "source": [
        "df.head()"
      ],
      "execution_count": 7,
      "outputs": [
        {
          "output_type": "execute_result",
          "data": {
            "text/html": [
              "<div>\n",
              "<style scoped>\n",
              "    .dataframe tbody tr th:only-of-type {\n",
              "        vertical-align: middle;\n",
              "    }\n",
              "\n",
              "    .dataframe tbody tr th {\n",
              "        vertical-align: top;\n",
              "    }\n",
              "\n",
              "    .dataframe thead th {\n",
              "        text-align: right;\n",
              "    }\n",
              "</style>\n",
              "<table border=\"1\" class=\"dataframe\">\n",
              "  <thead>\n",
              "    <tr style=\"text-align: right;\">\n",
              "      <th></th>\n",
              "      <th>NombreFoto</th>\n",
              "      <th>Embedding</th>\n",
              "    </tr>\n",
              "  </thead>\n",
              "  <tbody>\n",
              "    <tr>\n",
              "      <th>0</th>\n",
              "      <td>462220.jpg 0</td>\n",
              "      <td>[[ 2.3611324   0.7700528   1.5315906  -1.38208...</td>\n",
              "    </tr>\n",
              "    <tr>\n",
              "      <th>1</th>\n",
              "      <td>462220.jpg 1</td>\n",
              "      <td>[[-0.18996963  0.47556552  0.3286136   1.53095...</td>\n",
              "    </tr>\n",
              "    <tr>\n",
              "      <th>2</th>\n",
              "      <td>44569.jpg 0</td>\n",
              "      <td>[[-0.67055297 -0.4772751  -0.05659456  0.97165...</td>\n",
              "    </tr>\n",
              "    <tr>\n",
              "      <th>3</th>\n",
              "      <td>44569.jpg 1</td>\n",
              "      <td>[[-8.7787104e-01  1.4074993e+00 -9.2881995e-01...</td>\n",
              "    </tr>\n",
              "    <tr>\n",
              "      <th>4</th>\n",
              "      <td>44569.jpg 2</td>\n",
              "      <td>[[ 0.55190855  0.47906682 -1.9257076  -0.58596...</td>\n",
              "    </tr>\n",
              "  </tbody>\n",
              "</table>\n",
              "</div>"
            ],
            "text/plain": [
              "     NombreFoto                                          Embedding\n",
              "0  462220.jpg 0  [[ 2.3611324   0.7700528   1.5315906  -1.38208...\n",
              "1  462220.jpg 1  [[-0.18996963  0.47556552  0.3286136   1.53095...\n",
              "2   44569.jpg 0  [[-0.67055297 -0.4772751  -0.05659456  0.97165...\n",
              "3   44569.jpg 1  [[-8.7787104e-01  1.4074993e+00 -9.2881995e-01...\n",
              "4   44569.jpg 2  [[ 0.55190855  0.47906682 -1.9257076  -0.58596..."
            ]
          },
          "metadata": {
            "tags": []
          },
          "execution_count": 7
        }
      ]
    },
    {
      "cell_type": "markdown",
      "metadata": {
        "id": "ldOTfCI-KaO9"
      },
      "source": [
        "Foto Entrada"
      ]
    },
    {
      "cell_type": "code",
      "metadata": {
        "colab": {
          "base_uri": "https://localhost:8080/"
        },
        "id": "1ln7ouSZKs3C",
        "outputId": "3facae2f-ec87-45f0-e9ef-d430b32daeb0"
      },
      "source": [
        "!wget https://www.dropbox.com/s/2t7n2q8b8gidjsh/foto.zip?dl=0 -O foto.zip\n",
        "!unzip foto.zip"
      ],
      "execution_count": 9,
      "outputs": [
        {
          "output_type": "stream",
          "text": [
            "--2021-05-27 14:11:51--  https://www.dropbox.com/s/2t7n2q8b8gidjsh/foto.zip?dl=0\n",
            "Resolving www.dropbox.com (www.dropbox.com)... 162.125.1.18, 2620:100:6016:18::a27d:112\n",
            "Connecting to www.dropbox.com (www.dropbox.com)|162.125.1.18|:443... connected.\n",
            "HTTP request sent, awaiting response... 301 Moved Permanently\n",
            "Location: /s/raw/2t7n2q8b8gidjsh/foto.zip [following]\n",
            "--2021-05-27 14:11:51--  https://www.dropbox.com/s/raw/2t7n2q8b8gidjsh/foto.zip\n",
            "Reusing existing connection to www.dropbox.com:443.\n",
            "HTTP request sent, awaiting response... 302 Found\n",
            "Location: https://uc97f3e88d844af30efdb1709003.dl.dropboxusercontent.com/cd/0/inline/BPQnCW2sYwOpOiElwtb8ivE84jVovxzvrFJTWgd5j8H4hXx9LYG72z03cEQIL8mzjdxEQ60OMobSgN1W7ph2kWQ5Elg7Fez16T3BwLHXByRjSpIiC3McHrUWZ3FOzPkTs5avpFHKa6GW3pYecGwZ2L5S/file# [following]\n",
            "--2021-05-27 14:11:52--  https://uc97f3e88d844af30efdb1709003.dl.dropboxusercontent.com/cd/0/inline/BPQnCW2sYwOpOiElwtb8ivE84jVovxzvrFJTWgd5j8H4hXx9LYG72z03cEQIL8mzjdxEQ60OMobSgN1W7ph2kWQ5Elg7Fez16T3BwLHXByRjSpIiC3McHrUWZ3FOzPkTs5avpFHKa6GW3pYecGwZ2L5S/file\n",
            "Resolving uc97f3e88d844af30efdb1709003.dl.dropboxusercontent.com (uc97f3e88d844af30efdb1709003.dl.dropboxusercontent.com)... 162.125.4.15, 2620:100:6016:15::a27d:10f\n",
            "Connecting to uc97f3e88d844af30efdb1709003.dl.dropboxusercontent.com (uc97f3e88d844af30efdb1709003.dl.dropboxusercontent.com)|162.125.4.15|:443... connected.\n",
            "HTTP request sent, awaiting response... 302 Found\n",
            "Location: /cd/0/inline2/BPRSxlfuohdORr4bUfHxRUXJ3QUsWMTTBT8xz1D5YG4S7IKjBYW6XT1BhQxHf2B2S14Szs_boCnhwui_MzVte_5OSQ2Cl5ARpP1fhnAaoEldhgzF3pFS9olV6n_flHzi20lcOdSA_fH0GaCHVoCKD4hdlth-cYivv2CM5s3ZkeGnrPt0WjAOPFBzSX4XBUEShZwXqugsEdxgXdj3KhWi_NMBsgnowGPzNgfl9hTzAKYjiDAMelRzhgsd0CHCRxDvYM5efaw_rBfU1tp1HMQDCuQMIj5tTTStl6WFngOD0hiS5q0k7ZHb86lK0bXNpRlXz4GY_1Ck2wsl2smA6IShfHAho2IEe0tsRqh2dmDmO0NO_7PHtiJmgtBW_8L2RZ6tSNU/file [following]\n",
            "--2021-05-27 14:11:52--  https://uc97f3e88d844af30efdb1709003.dl.dropboxusercontent.com/cd/0/inline2/BPRSxlfuohdORr4bUfHxRUXJ3QUsWMTTBT8xz1D5YG4S7IKjBYW6XT1BhQxHf2B2S14Szs_boCnhwui_MzVte_5OSQ2Cl5ARpP1fhnAaoEldhgzF3pFS9olV6n_flHzi20lcOdSA_fH0GaCHVoCKD4hdlth-cYivv2CM5s3ZkeGnrPt0WjAOPFBzSX4XBUEShZwXqugsEdxgXdj3KhWi_NMBsgnowGPzNgfl9hTzAKYjiDAMelRzhgsd0CHCRxDvYM5efaw_rBfU1tp1HMQDCuQMIj5tTTStl6WFngOD0hiS5q0k7ZHb86lK0bXNpRlXz4GY_1Ck2wsl2smA6IShfHAho2IEe0tsRqh2dmDmO0NO_7PHtiJmgtBW_8L2RZ6tSNU/file\n",
            "Reusing existing connection to uc97f3e88d844af30efdb1709003.dl.dropboxusercontent.com:443.\n",
            "HTTP request sent, awaiting response... 200 OK\n",
            "Length: 52057 (51K) [application/zip]\n",
            "Saving to: ‘foto.zip’\n",
            "\n",
            "foto.zip            100%[===================>]  50.84K  --.-KB/s    in 0.09s   \n",
            "\n",
            "2021-05-27 14:11:52 (558 KB/s) - ‘foto.zip’ saved [52057/52057]\n",
            "\n",
            "Archive:  foto.zip\n",
            "  inflating: foto/conchaAndreu.jpg   \n"
          ],
          "name": "stdout"
        }
      ]
    },
    {
      "cell_type": "markdown",
      "metadata": {
        "id": "KnNqOtolLAap"
      },
      "source": [
        "### Métodos necesarios"
      ]
    },
    {
      "cell_type": "code",
      "metadata": {
        "id": "ZqfKym1dLFpk"
      },
      "source": [
        "def load_image(DIR, NAME):\n",
        "    return cv2.cvtColor(cv2.imread(f'{DIR}/{name}'), cv2.COLOR_BGR2RGB)\n",
        "\n",
        "def detect_faces(image, score_threshold=0.7):\n",
        "    global boxes, scores\n",
        "    (imh, imw) = image.shape[:-1]\n",
        "    img = np.expand_dims(image,axis=0)\n",
        "    \n",
        "    # Inicializar mobilenet\n",
        "    sess = tf.compat.v1.Session(graph=mobilenet)\n",
        "    image_tensor = mobilenet.get_tensor_by_name('image_tensor:0')\n",
        "    boxes = mobilenet.get_tensor_by_name('detection_boxes:0')\n",
        "    scores = mobilenet.get_tensor_by_name('detection_scores:0')\n",
        "    \n",
        "    # Predicción (detección)\n",
        "    (boxes, scores) = sess.run([boxes, scores], feed_dict={image_tensor:img})\n",
        "    \n",
        "    # Reajustar tamaños boxes, scores\n",
        "    boxes = np.squeeze(boxes,axis=0)\n",
        "    scores = np.squeeze(scores,axis=0)\n",
        "    \n",
        "    # Depurar bounding boxes\n",
        "    idx = np.where(scores>=score_threshold)[0]\n",
        "    \n",
        "    # Crear bounding boxes\n",
        "    bboxes = []\n",
        "    for index in idx:\n",
        "        ymin, xmin, ymax, xmax = boxes[index,:]\n",
        "        (left, right, top, bottom) = (xmin*imw, xmax*imw, ymin*imh, ymax*imh)\n",
        "        left, right, top, bottom = int(left), int(right), int(top), int(bottom)\n",
        "        bboxes.append([left,right,top,bottom])\n",
        "        \n",
        "    return bboxes\n",
        "\n",
        "\n",
        "def extract_faces(image,bboxes,new_size=(160,160)):\n",
        "    cropped_faces = []\n",
        "    for box in bboxes:\n",
        "        left, right, top, bottom = box\n",
        "        face = image[top:bottom,left:right]\n",
        "        cropped_faces.append(cv2.resize(face,dsize=new_size))\n",
        "    return cropped_faces"
      ],
      "execution_count": 13,
      "outputs": []
    },
    {
      "cell_type": "code",
      "metadata": {
        "colab": {
          "base_uri": "https://localhost:8080/",
          "height": 378
        },
        "id": "fQyeqiHCKxxD",
        "outputId": "a3453c06-1a66-4f47-e044-3affcace992f"
      },
      "source": [
        "known_embeddings = []\n",
        "\n",
        "print('Procesando rostros conocidos...')\n",
        "for name in os.listdir('foto'):\n",
        "    if name.endswith('.jpg'):\n",
        "        print(f'   {name}')\n",
        "        image = load_image('foto',name)\n",
        "        bboxes = detect_faces(image)\n",
        "        face = extract_faces(image,bboxes)\n",
        "        known_embeddings.append(compute_embedding(facenet,face[0]))"
      ],
      "execution_count": 14,
      "outputs": [
        {
          "output_type": "stream",
          "text": [
            "Procesando rostros conocidos...\n",
            "   conchaAndreu.jpg\n"
          ],
          "name": "stdout"
        },
        {
          "output_type": "error",
          "ename": "NameError",
          "evalue": "ignored",
          "traceback": [
            "\u001b[0;31m---------------------------------------------------------------------------\u001b[0m",
            "\u001b[0;31mNameError\u001b[0m                                 Traceback (most recent call last)",
            "\u001b[0;32m<ipython-input-14-7b8cb6806d15>\u001b[0m in \u001b[0;36m<module>\u001b[0;34m()\u001b[0m\n\u001b[1;32m      6\u001b[0m         \u001b[0mprint\u001b[0m\u001b[0;34m(\u001b[0m\u001b[0;34mf'   {name}'\u001b[0m\u001b[0;34m)\u001b[0m\u001b[0;34m\u001b[0m\u001b[0;34m\u001b[0m\u001b[0m\n\u001b[1;32m      7\u001b[0m         \u001b[0mimage\u001b[0m \u001b[0;34m=\u001b[0m \u001b[0mload_image\u001b[0m\u001b[0;34m(\u001b[0m\u001b[0;34m'foto'\u001b[0m\u001b[0;34m,\u001b[0m\u001b[0mname\u001b[0m\u001b[0;34m)\u001b[0m\u001b[0;34m\u001b[0m\u001b[0;34m\u001b[0m\u001b[0m\n\u001b[0;32m----> 8\u001b[0;31m         \u001b[0mbboxes\u001b[0m \u001b[0;34m=\u001b[0m \u001b[0mdetect_faces\u001b[0m\u001b[0;34m(\u001b[0m\u001b[0mimage\u001b[0m\u001b[0;34m)\u001b[0m\u001b[0;34m\u001b[0m\u001b[0;34m\u001b[0m\u001b[0m\n\u001b[0m\u001b[1;32m      9\u001b[0m         \u001b[0mface\u001b[0m \u001b[0;34m=\u001b[0m \u001b[0mextract_faces\u001b[0m\u001b[0;34m(\u001b[0m\u001b[0mimage\u001b[0m\u001b[0;34m,\u001b[0m\u001b[0mbboxes\u001b[0m\u001b[0;34m)\u001b[0m\u001b[0;34m\u001b[0m\u001b[0;34m\u001b[0m\u001b[0m\n\u001b[1;32m     10\u001b[0m         \u001b[0mknown_embeddings\u001b[0m\u001b[0;34m.\u001b[0m\u001b[0mappend\u001b[0m\u001b[0;34m(\u001b[0m\u001b[0mcompute_embedding\u001b[0m\u001b[0;34m(\u001b[0m\u001b[0mfacenet\u001b[0m\u001b[0;34m,\u001b[0m\u001b[0mface\u001b[0m\u001b[0;34m[\u001b[0m\u001b[0;36m0\u001b[0m\u001b[0;34m]\u001b[0m\u001b[0;34m)\u001b[0m\u001b[0;34m)\u001b[0m\u001b[0;34m\u001b[0m\u001b[0;34m\u001b[0m\u001b[0m\n",
            "\u001b[0;32m<ipython-input-13-abd861cb9ddd>\u001b[0m in \u001b[0;36mdetect_faces\u001b[0;34m(image, score_threshold)\u001b[0m\n\u001b[1;32m      8\u001b[0m \u001b[0;34m\u001b[0m\u001b[0m\n\u001b[1;32m      9\u001b[0m     \u001b[0;31m# Inicializar mobilenet\u001b[0m\u001b[0;34m\u001b[0m\u001b[0;34m\u001b[0m\u001b[0;34m\u001b[0m\u001b[0m\n\u001b[0;32m---> 10\u001b[0;31m     \u001b[0msess\u001b[0m \u001b[0;34m=\u001b[0m \u001b[0mtf\u001b[0m\u001b[0;34m.\u001b[0m\u001b[0mcompat\u001b[0m\u001b[0;34m.\u001b[0m\u001b[0mv1\u001b[0m\u001b[0;34m.\u001b[0m\u001b[0mSession\u001b[0m\u001b[0;34m(\u001b[0m\u001b[0mgraph\u001b[0m\u001b[0;34m=\u001b[0m\u001b[0mmobilenet\u001b[0m\u001b[0;34m)\u001b[0m\u001b[0;34m\u001b[0m\u001b[0;34m\u001b[0m\u001b[0m\n\u001b[0m\u001b[1;32m     11\u001b[0m     \u001b[0mimage_tensor\u001b[0m \u001b[0;34m=\u001b[0m \u001b[0mmobilenet\u001b[0m\u001b[0;34m.\u001b[0m\u001b[0mget_tensor_by_name\u001b[0m\u001b[0;34m(\u001b[0m\u001b[0;34m'image_tensor:0'\u001b[0m\u001b[0;34m)\u001b[0m\u001b[0;34m\u001b[0m\u001b[0;34m\u001b[0m\u001b[0m\n\u001b[1;32m     12\u001b[0m     \u001b[0mboxes\u001b[0m \u001b[0;34m=\u001b[0m \u001b[0mmobilenet\u001b[0m\u001b[0;34m.\u001b[0m\u001b[0mget_tensor_by_name\u001b[0m\u001b[0;34m(\u001b[0m\u001b[0;34m'detection_boxes:0'\u001b[0m\u001b[0;34m)\u001b[0m\u001b[0;34m\u001b[0m\u001b[0;34m\u001b[0m\u001b[0m\n",
            "\u001b[0;31mNameError\u001b[0m: name 'mobilenet' is not defined"
          ]
        }
      ]
    }
  ]
}